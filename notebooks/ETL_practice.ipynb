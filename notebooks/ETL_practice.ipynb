{
 "cells": [
  {
   "cell_type": "code",
   "execution_count": null,
   "id": "f2cf722e-26c3-470f-aa02-0df3b554000a",
   "metadata": {},
   "outputs": [],
   "source": []
  },
  {
   "cell_type": "markdown",
   "id": "7218e4b3-8462-4817-a4db-c8090a9791ec",
   "metadata": {},
   "source": [
    "### Postgres create engine (SQLAlchemy connection)"
   ]
  },
  {
   "cell_type": "code",
   "execution_count": 130,
   "id": "6b23441d-b4b5-4c57-bb2a-cb820080df6f",
   "metadata": {},
   "outputs": [
    {
     "data": {
      "text/plain": [
       "True"
      ]
     },
     "execution_count": 130,
     "metadata": {},
     "output_type": "execute_result"
    }
   ],
   "source": [
    "# manually build path relative to notebook\n",
    "\n",
    "from pathlib import Path\n",
    "from dotenv import load_dotenv\n",
    "import os\n",
    "\n",
    "# With folder structure:\n",
    "# epi-dashboard/\n",
    "# ├─ env/.env\n",
    "# └─ notebooks/etl_who_data.ipynb\n",
    "\n",
    "env_path = Path.cwd().parent / \"env\" / \".env\"  # go up one folder from /notebooks\n",
    "load_dotenv(dotenv_path=env_path) # tell it where env file is\n",
    "\n",
    "# Postgres credentials should now be available via os.getenv, Default is current working directory or parent folder"
   ]
  },
  {
   "cell_type": "code",
   "execution_count": 131,
   "id": "cad649a2-c929-4945-8d84-a5758a8890d2",
   "metadata": {},
   "outputs": [],
   "source": [
    "from sqlalchemy.engine import URL\n",
    "from sqlalchemy import create_engine, text\n",
    "\n",
    "pg_url = URL.create(\n",
    "    \"postgresql+psycopg\",\n",
    "    username=os.getenv(\"PGUSER\"),\n",
    "    password=os.getenv(\"PGPASSWORD\"),\n",
    "    host=os.getenv(\"PGHOST\", \"localhost\"),\n",
    "    port=int(os.getenv(\"PGPORT\", 5432)),\n",
    "    database=os.getenv(\"PGDATABASE\"),\n",
    ")\n",
    "\n",
    "engine = create_engine(pg_url, pool_pre_ping=True)\n"
   ]
  },
  {
   "cell_type": "code",
   "execution_count": 132,
   "id": "fd7d2d6e-1ecb-41b7-91a7-d64dfaec2de3",
   "metadata": {},
   "outputs": [],
   "source": [
    "# Alternative syntax\n",
    "\n",
    "# engine = create_engine(\n",
    "#     f\"postgresql+psycopg2://{os.environ['PGUSER']}:{os.environ['PGPASSWORD']}@\"\n",
    "#     f\"{os.environ['PGHOST']}:{os.environ['PGPORT']}/{os.environ['PGDATABASE']}\"\n",
    "# )\n"
   ]
  },
  {
   "cell_type": "markdown",
   "id": "d8003e02-4c63-4bf1-b609-748c193861a1",
   "metadata": {},
   "source": [
    "### Test connection"
   ]
  },
  {
   "cell_type": "code",
   "execution_count": 133,
   "id": "9433c565-8f3e-43c9-9d8f-502b5b0700a4",
   "metadata": {},
   "outputs": [
    {
     "name": "stdout",
     "output_type": "stream",
     "text": [
      "Connected to: PostgreSQL 17.6 on x86_64-windows, compiled by msvc-19.44.35213, 64-bit\n"
     ]
    }
   ],
   "source": [
    "try:\n",
    "    with engine.begin() as conn:\n",
    "        version = conn.execute(text(\"SELECT version();\")).scalar()\n",
    "        print(\"Connected to:\", version)\n",
    "        conn.execute(text(\"CREATE SCHEMA IF NOT EXISTS gho;\"))\n",
    "except Exception as e:\n",
    "    print(\"Connection failed:\", e)\n"
   ]
  },
  {
   "cell_type": "code",
   "execution_count": 134,
   "id": "49b4159a-252b-4f93-81f1-e10fa5e40296",
   "metadata": {},
   "outputs": [],
   "source": [
    "# error is from SQLAlchemy 2.0: plain SQL strings aren’t implicitly executable anymore:\n",
    "# with engine.connect() as conn:\n",
    "#     print(conn.execute(\"SELECT version();\").fetchone())\n",
    "\n",
    "# So Wrap the SQL in text() "
   ]
  },
  {
   "cell_type": "markdown",
   "id": "0295cc83-838f-4705-ac9c-046f0d1f8182",
   "metadata": {},
   "source": [
    "#### Just life expectancy at birth to start with (WHOSIS_000001)"
   ]
  },
  {
   "cell_type": "markdown",
   "id": "03d75813-4d7c-4318-9b1b-08fc24b66abd",
   "metadata": {},
   "source": [
    "You’ll see fields like IndicatorCode, IndicatorName, SpatialDimType, SpatialDim (ISO3), ParentLocation, TimeDim (year), Dim1 (sex code), NumericValue, Low, High, TimeDimensionBegin, TimeDimensionEnd, etc. (Field set is documented and used consistently across indicators.)"
   ]
  },
  {
   "cell_type": "code",
   "execution_count": 77,
   "id": "94451942-87de-424c-8403-3a3b00a6a279",
   "metadata": {},
   "outputs": [
    {
     "data": {
      "text/plain": [
       "(12936, 25)"
      ]
     },
     "execution_count": 77,
     "metadata": {},
     "output_type": "execute_result"
    }
   ],
   "source": [
    "import requests, pandas as pd, time\n",
    "\n",
    "BASE = \"https://ghoapi.azureedge.net/api/WHOSIS_000001\"\n",
    "\n",
    "# OPTIONAL: pre-filter at the source to shrink what you download\n",
    "# e.g., both sexes only:\n",
    "# BASE += \"?$filter=Dim1 eq 'BTSX'\"\n",
    "\n",
    "frames = []\n",
    "url = BASE  # start with the base (or filtered) URL\n",
    "\n",
    "while True:\n",
    "    r = requests.get(url, timeout=60)\n",
    "    r.raise_for_status()\n",
    "    js = r.json()\n",
    "    if 'value' in js and js['value']:\n",
    "        frames.append(pd.json_normalize(js['value']))\n",
    "    # follow server-driven paging\n",
    "    url = js.get('@odata.nextLink')\n",
    "    if not url:\n",
    "        break\n",
    "    time.sleep(0.1)  # polite pause\n",
    "\n",
    "raw = pd.concat(frames, ignore_index=True) if frames else pd.DataFrame()\n",
    "raw.shape\n"
   ]
  },
  {
   "cell_type": "code",
   "execution_count": 78,
   "id": "e6d179cf-1fa8-406a-ad79-a1eab49ac718",
   "metadata": {},
   "outputs": [
    {
     "name": "stdout",
     "output_type": "stream",
     "text": [
      "['Comments', 'DataSourceDim', 'DataSourceDimType', 'Date', 'Dim1', 'Dim1Type', 'Dim2', 'Dim2Type', 'Dim3', 'Dim3Type', 'High', 'Id', 'IndicatorCode', 'Low', 'NumericValue', 'ParentLocation', 'ParentLocationCode', 'SpatialDim', 'SpatialDimType', 'TimeDim', 'TimeDimType', 'TimeDimensionBegin', 'TimeDimensionEnd', 'TimeDimensionValue', 'Value']\n"
     ]
    }
   ],
   "source": [
    "#Check what API returned to environment \n",
    "print(sorted(raw.columns.tolist()))"
   ]
  },
  {
   "cell_type": "markdown",
   "id": "dd90230a-3459-4dd3-ab82-8da06b88c638",
   "metadata": {},
   "source": [
    "#### Tidying dataframe"
   ]
  },
  {
   "cell_type": "code",
   "execution_count": 79,
   "id": "c286b37f-8b6e-4b39-ad43-049e8405fef7",
   "metadata": {
    "scrolled": true
   },
   "outputs": [
    {
     "name": "stdout",
     "output_type": "stream",
     "text": [
      "['Comments', 'DataSourceDim', 'DataSourceDimType', 'Date', 'Dim1', 'Dim1Type', 'Dim2', 'Dim2Type', 'Dim3', 'Dim3Type', 'High', 'Id', 'IndicatorCode', 'Low', 'NumericValue', 'ParentLocation', 'ParentLocationCode', 'SpatialDim', 'SpatialDimType', 'TimeDim', 'TimeDimType', 'TimeDimensionBegin', 'TimeDimensionEnd', 'TimeDimensionValue', 'Value']\n"
     ]
    },
    {
     "data": {
      "text/html": [
       "<div>\n",
       "<style scoped>\n",
       "    .dataframe tbody tr th:only-of-type {\n",
       "        vertical-align: middle;\n",
       "    }\n",
       "\n",
       "    .dataframe tbody tr th {\n",
       "        vertical-align: top;\n",
       "    }\n",
       "\n",
       "    .dataframe thead th {\n",
       "        text-align: right;\n",
       "    }\n",
       "</style>\n",
       "<table border=\"1\" class=\"dataframe\">\n",
       "  <thead>\n",
       "    <tr style=\"text-align: right;\">\n",
       "      <th></th>\n",
       "      <th>indicator_code</th>\n",
       "      <th>indicator_name</th>\n",
       "      <th>spatial_dim_type</th>\n",
       "      <th>spatial_dim</th>\n",
       "      <th>parent_location</th>\n",
       "      <th>time_dim</th>\n",
       "      <th>dim1</th>\n",
       "      <th>numeric_value</th>\n",
       "      <th>low</th>\n",
       "      <th>high</th>\n",
       "      <th>value</th>\n",
       "      <th>time_dimension_begin</th>\n",
       "      <th>time_dimension_end</th>\n",
       "    </tr>\n",
       "  </thead>\n",
       "  <tbody>\n",
       "    <tr>\n",
       "      <th>0</th>\n",
       "      <td>WHOSIS_000001</td>\n",
       "      <td>Life expectancy at birth (WHOSIS_000001)</td>\n",
       "      <td>COUNTRY</td>\n",
       "      <td>SOM</td>\n",
       "      <td>Eastern Mediterranean</td>\n",
       "      <td>2008</td>\n",
       "      <td>SEX_MLE</td>\n",
       "      <td>48.037541</td>\n",
       "      <td>46.716784</td>\n",
       "      <td>49.628457</td>\n",
       "      <td>48.0 [46.7-49.6]</td>\n",
       "      <td>2008-01-01</td>\n",
       "      <td>2008-12-31</td>\n",
       "    </tr>\n",
       "    <tr>\n",
       "      <th>1</th>\n",
       "      <td>WHOSIS_000001</td>\n",
       "      <td>Life expectancy at birth (WHOSIS_000001)</td>\n",
       "      <td>COUNTRY</td>\n",
       "      <td>BTN</td>\n",
       "      <td>South-East Asia</td>\n",
       "      <td>2002</td>\n",
       "      <td>SEX_BTSX</td>\n",
       "      <td>67.845665</td>\n",
       "      <td>67.083124</td>\n",
       "      <td>68.558745</td>\n",
       "      <td>67.8 [67.1-68.6]</td>\n",
       "      <td>2002-01-01</td>\n",
       "      <td>2002-12-31</td>\n",
       "    </tr>\n",
       "    <tr>\n",
       "      <th>2</th>\n",
       "      <td>WHOSIS_000001</td>\n",
       "      <td>Life expectancy at birth (WHOSIS_000001)</td>\n",
       "      <td>COUNTRY</td>\n",
       "      <td>BHR</td>\n",
       "      <td>Eastern Mediterranean</td>\n",
       "      <td>2011</td>\n",
       "      <td>SEX_FMLE</td>\n",
       "      <td>75.205359</td>\n",
       "      <td>75.050478</td>\n",
       "      <td>75.385175</td>\n",
       "      <td>75.2 [75.1-75.4]</td>\n",
       "      <td>2011-01-01</td>\n",
       "      <td>2011-12-31</td>\n",
       "    </tr>\n",
       "  </tbody>\n",
       "</table>\n",
       "</div>"
      ],
      "text/plain": [
       "  indicator_code                            indicator_name spatial_dim_type  \\\n",
       "0  WHOSIS_000001  Life expectancy at birth (WHOSIS_000001)          COUNTRY   \n",
       "1  WHOSIS_000001  Life expectancy at birth (WHOSIS_000001)          COUNTRY   \n",
       "2  WHOSIS_000001  Life expectancy at birth (WHOSIS_000001)          COUNTRY   \n",
       "\n",
       "  spatial_dim        parent_location  time_dim      dim1  numeric_value  \\\n",
       "0         SOM  Eastern Mediterranean      2008   SEX_MLE      48.037541   \n",
       "1         BTN        South-East Asia      2002  SEX_BTSX      67.845665   \n",
       "2         BHR  Eastern Mediterranean      2011  SEX_FMLE      75.205359   \n",
       "\n",
       "         low       high             value time_dimension_begin  \\\n",
       "0  46.716784  49.628457  48.0 [46.7-49.6]           2008-01-01   \n",
       "1  67.083124  68.558745  67.8 [67.1-68.6]           2002-01-01   \n",
       "2  75.050478  75.385175  75.2 [75.1-75.4]           2011-01-01   \n",
       "\n",
       "  time_dimension_end  \n",
       "0         2008-12-31  \n",
       "1         2002-12-31  \n",
       "2         2011-12-31  "
      ]
     },
     "execution_count": 79,
     "metadata": {},
     "output_type": "execute_result"
    }
   ],
   "source": [
    "import pandas as pd\n",
    "from datetime import date\n",
    "\n",
    "# 1) Inspect what actually came back (for debugging only)\n",
    "print(sorted(raw.columns.tolist())[:40])  # peek at the first ~40 columns\n",
    "\n",
    "# 2) Prefer country rows if possible; otherwise fall back to ISO3-looking codes\n",
    "if 'SpatialDimType' in raw.columns:\n",
    "    countries = raw[raw['SpatialDimType'].eq('COUNTRY')].copy()\n",
    "else:\n",
    "    # fallback: rows with a 3-letter all-caps SpatialDim (looks like an ISO3 code)\n",
    "    countries = raw[raw['SpatialDim'].astype(str).str.fullmatch(r'[A-Z]{3}', na=False)].copy()\n",
    "\n",
    "# 3) Robust mapping with fallbacks (only keep/rename columns that exist; fill missing)\n",
    "# If absent, target column created with NA\n",
    "source_to_target = {\n",
    "    'IndicatorCode': 'indicator_code',\n",
    "    'IndicatorName': 'indicator_name',          # may be absent\n",
    "    'SpatialDimType': 'spatial_dim_type',\n",
    "    'SpatialDim': 'spatial_dim',\n",
    "    'ParentLocation': 'parent_location',        # may be absent\n",
    "    'TimeDim': 'time_dim',\n",
    "    'Dim1': 'dim1',\n",
    "    'NumericValue': 'numeric_value',\n",
    "    'Low': 'low',\n",
    "    'High': 'high',\n",
    "    'Value': 'value',                            # may be absent\n",
    "    'TimeDimensionBegin': 'time_dimension_begin',\n",
    "    'TimeDimensionEnd': 'time_dimension_end',\n",
    "}\n",
    "\n",
    "# Build the target DataFrame column-by-column\n",
    "df_parts = {}\n",
    "for src, tgt in source_to_target.items():\n",
    "    if src in countries.columns:\n",
    "        df_parts[tgt] = countries[src]\n",
    "    else:\n",
    "        # sensible default NA types\n",
    "        if tgt in {'time_dim'}:\n",
    "            df_parts[tgt] = pd.Series(pd.NA, index=countries.index, dtype='Int64')\n",
    "        elif tgt in {'numeric_value','low','high'}:\n",
    "            df_parts[tgt] = pd.Series(pd.NA, index=countries.index, dtype='float')\n",
    "        elif tgt in {'time_dimension_begin','time_dimension_end'}:\n",
    "            df_parts[tgt] = pd.Series(pd.NaT, index=countries.index, dtype='datetime64[ns]')\n",
    "        else:\n",
    "            df_parts[tgt] = pd.Series(pd.NA, index=countries.index, dtype='object')\n",
    "\n",
    "df = pd.DataFrame(df_parts)\n",
    "\n",
    "# 4) Type casting & cleaning\n",
    "if 'time_dim' in df:\n",
    "    df['time_dim'] = df['time_dim'].astype('Int64')\n",
    "\n",
    "for c in ['numeric_value', 'low', 'high']:\n",
    "    if c in df:\n",
    "        df[c] = pd.to_numeric(df[c], errors='coerce')\n",
    "\n",
    "for c in ['time_dimension_begin', 'time_dimension_end']:\n",
    "    if c in df:\n",
    "        df[c] = pd.to_datetime(df[c], errors='coerce').dt.date\n",
    "\n",
    "# 5) Optional: if indicator_name is missing, derive a friendly one from indicator_code\n",
    "if df['indicator_code'].notna().any() and df['indicator_name'].isna().all():\n",
    "    df['indicator_name'] = 'Life expectancy at birth (WHOSIS_000001)'\n",
    "\n",
    "df.head(3)\n"
   ]
  },
  {
   "cell_type": "markdown",
   "id": "c0b07144-4e52-4fbe-a89b-1dc557fa9bee",
   "metadata": {},
   "source": [
    "#### Push into postgres"
   ]
  },
  {
   "cell_type": "code",
   "execution_count": 80,
   "id": "048cfc83-84b5-4df3-90f8-a05edfc39ba5",
   "metadata": {},
   "outputs": [
    {
     "data": {
      "text/plain": [
       "-1"
      ]
     },
     "execution_count": 80,
     "metadata": {},
     "output_type": "execute_result"
    }
   ],
   "source": [
    "df.to_sql(\"life_expectancy\", engine, schema=\"gho\", if_exists=\"append\", index=False)\n"
   ]
  },
  {
   "cell_type": "code",
   "execution_count": 81,
   "id": "feb99298-83e6-4b1c-8b2b-1ca1a32e3b97",
   "metadata": {},
   "outputs": [],
   "source": [
    "# Optional: analyze for better plans\n",
    "with engine.begin() as conn:\n",
    "    conn.execute(text(\"ANALYZE gho.life_expectancy;\"))"
   ]
  },
  {
   "cell_type": "markdown",
   "id": "0bb4523d-0df8-4bfc-87b3-54d427e43168",
   "metadata": {},
   "source": [
    "#### Query with SQL"
   ]
  },
  {
   "cell_type": "code",
   "execution_count": 138,
   "id": "599fe2e3-191a-48c6-b2fb-557f12e8c1ee",
   "metadata": {},
   "outputs": [
    {
     "data": {
      "text/html": [
       "<div>\n",
       "<style scoped>\n",
       "    .dataframe tbody tr th:only-of-type {\n",
       "        vertical-align: middle;\n",
       "    }\n",
       "\n",
       "    .dataframe tbody tr th {\n",
       "        vertical-align: top;\n",
       "    }\n",
       "\n",
       "    .dataframe thead th {\n",
       "        text-align: right;\n",
       "    }\n",
       "</style>\n",
       "<table border=\"1\" class=\"dataframe\">\n",
       "  <thead>\n",
       "    <tr style=\"text-align: right;\">\n",
       "      <th></th>\n",
       "      <th>indicator_code</th>\n",
       "      <th>spatial_dim_type</th>\n",
       "      <th>spatial_dim</th>\n",
       "      <th>parent_location</th>\n",
       "      <th>time_dim</th>\n",
       "      <th>dim1</th>\n",
       "      <th>numeric_value</th>\n",
       "      <th>low</th>\n",
       "      <th>high</th>\n",
       "      <th>value</th>\n",
       "      <th>time_dimension_begin</th>\n",
       "      <th>time_dimension_end</th>\n",
       "      <th>indicator_name</th>\n",
       "    </tr>\n",
       "  </thead>\n",
       "  <tbody>\n",
       "    <tr>\n",
       "      <th>0</th>\n",
       "      <td>WHOSIS_000001</td>\n",
       "      <td>COUNTRY</td>\n",
       "      <td>SOM</td>\n",
       "      <td>Eastern Mediterranean</td>\n",
       "      <td>2008</td>\n",
       "      <td>SEX_MLE</td>\n",
       "      <td>48.04</td>\n",
       "      <td>46.72</td>\n",
       "      <td>49.63</td>\n",
       "      <td>48.0 [46.7-49.6]</td>\n",
       "      <td>2008-01-01</td>\n",
       "      <td>2008-12-31</td>\n",
       "      <td>Life expectancy at birth (WHOSIS_000001)</td>\n",
       "    </tr>\n",
       "    <tr>\n",
       "      <th>1</th>\n",
       "      <td>WHOSIS_000001</td>\n",
       "      <td>COUNTRY</td>\n",
       "      <td>BTN</td>\n",
       "      <td>South-East Asia</td>\n",
       "      <td>2002</td>\n",
       "      <td>SEX_BTSX</td>\n",
       "      <td>67.85</td>\n",
       "      <td>67.08</td>\n",
       "      <td>68.56</td>\n",
       "      <td>67.8 [67.1-68.6]</td>\n",
       "      <td>2002-01-01</td>\n",
       "      <td>2002-12-31</td>\n",
       "      <td>Life expectancy at birth (WHOSIS_000001)</td>\n",
       "    </tr>\n",
       "    <tr>\n",
       "      <th>2</th>\n",
       "      <td>WHOSIS_000001</td>\n",
       "      <td>COUNTRY</td>\n",
       "      <td>BHR</td>\n",
       "      <td>Eastern Mediterranean</td>\n",
       "      <td>2011</td>\n",
       "      <td>SEX_FMLE</td>\n",
       "      <td>75.21</td>\n",
       "      <td>75.05</td>\n",
       "      <td>75.39</td>\n",
       "      <td>75.2 [75.1-75.4]</td>\n",
       "      <td>2011-01-01</td>\n",
       "      <td>2011-12-31</td>\n",
       "      <td>Life expectancy at birth (WHOSIS_000001)</td>\n",
       "    </tr>\n",
       "    <tr>\n",
       "      <th>3</th>\n",
       "      <td>WHOSIS_000001</td>\n",
       "      <td>COUNTRY</td>\n",
       "      <td>SAU</td>\n",
       "      <td>Eastern Mediterranean</td>\n",
       "      <td>2005</td>\n",
       "      <td>SEX_FMLE</td>\n",
       "      <td>73.12</td>\n",
       "      <td>72.81</td>\n",
       "      <td>73.48</td>\n",
       "      <td>73.1 [72.8-73.5]</td>\n",
       "      <td>2005-01-01</td>\n",
       "      <td>2005-12-31</td>\n",
       "      <td>Life expectancy at birth (WHOSIS_000001)</td>\n",
       "    </tr>\n",
       "    <tr>\n",
       "      <th>4</th>\n",
       "      <td>WHOSIS_000001</td>\n",
       "      <td>COUNTRY</td>\n",
       "      <td>CYP</td>\n",
       "      <td>Europe</td>\n",
       "      <td>2003</td>\n",
       "      <td>SEX_MLE</td>\n",
       "      <td>76.86</td>\n",
       "      <td>76.67</td>\n",
       "      <td>77.16</td>\n",
       "      <td>76.9 [76.7-77.2]</td>\n",
       "      <td>2003-01-01</td>\n",
       "      <td>2003-12-31</td>\n",
       "      <td>Life expectancy at birth (WHOSIS_000001)</td>\n",
       "    </tr>\n",
       "  </tbody>\n",
       "</table>\n",
       "</div>"
      ],
      "text/plain": [
       "  indicator_code spatial_dim_type spatial_dim        parent_location  \\\n",
       "0  WHOSIS_000001          COUNTRY         SOM  Eastern Mediterranean   \n",
       "1  WHOSIS_000001          COUNTRY         BTN        South-East Asia   \n",
       "2  WHOSIS_000001          COUNTRY         BHR  Eastern Mediterranean   \n",
       "3  WHOSIS_000001          COUNTRY         SAU  Eastern Mediterranean   \n",
       "4  WHOSIS_000001          COUNTRY         CYP                 Europe   \n",
       "\n",
       "   time_dim      dim1  numeric_value    low   high             value  \\\n",
       "0      2008   SEX_MLE          48.04  46.72  49.63  48.0 [46.7-49.6]   \n",
       "1      2002  SEX_BTSX          67.85  67.08  68.56  67.8 [67.1-68.6]   \n",
       "2      2011  SEX_FMLE          75.21  75.05  75.39  75.2 [75.1-75.4]   \n",
       "3      2005  SEX_FMLE          73.12  72.81  73.48  73.1 [72.8-73.5]   \n",
       "4      2003   SEX_MLE          76.86  76.67  77.16  76.9 [76.7-77.2]   \n",
       "\n",
       "  time_dimension_begin time_dimension_end  \\\n",
       "0           2008-01-01         2008-12-31   \n",
       "1           2002-01-01         2002-12-31   \n",
       "2           2011-01-01         2011-12-31   \n",
       "3           2005-01-01         2005-12-31   \n",
       "4           2003-01-01         2003-12-31   \n",
       "\n",
       "                             indicator_name  \n",
       "0  Life expectancy at birth (WHOSIS_000001)  \n",
       "1  Life expectancy at birth (WHOSIS_000001)  \n",
       "2  Life expectancy at birth (WHOSIS_000001)  \n",
       "3  Life expectancy at birth (WHOSIS_000001)  \n",
       "4  Life expectancy at birth (WHOSIS_000001)  "
      ]
     },
     "execution_count": 138,
     "metadata": {},
     "output_type": "execute_result"
    }
   ],
   "source": [
    "import pandas as pd\n",
    "\n",
    "query = \"SELECT * FROM gho.life_expectancy LIMIT 10;\"  # adjust LIMIT as needed\n",
    "df = pd.read_sql(query, engine)\n",
    "df.head()"
   ]
  },
  {
   "cell_type": "code",
   "execution_count": 140,
   "id": "5aa0be58-67b7-4165-9f16-a4e373acc00d",
   "metadata": {},
   "outputs": [
    {
     "data": {
      "text/html": [
       "<div>\n",
       "<style scoped>\n",
       "    .dataframe tbody tr th:only-of-type {\n",
       "        vertical-align: middle;\n",
       "    }\n",
       "\n",
       "    .dataframe tbody tr th {\n",
       "        vertical-align: top;\n",
       "    }\n",
       "\n",
       "    .dataframe thead th {\n",
       "        text-align: right;\n",
       "    }\n",
       "</style>\n",
       "<table border=\"1\" class=\"dataframe\">\n",
       "  <thead>\n",
       "    <tr style=\"text-align: right;\">\n",
       "      <th></th>\n",
       "      <th>column_name</th>\n",
       "      <th>data_type</th>\n",
       "    </tr>\n",
       "  </thead>\n",
       "  <tbody>\n",
       "    <tr>\n",
       "      <th>0</th>\n",
       "      <td>indicator_code</td>\n",
       "      <td>text</td>\n",
       "    </tr>\n",
       "    <tr>\n",
       "      <th>1</th>\n",
       "      <td>spatial_dim_type</td>\n",
       "      <td>text</td>\n",
       "    </tr>\n",
       "    <tr>\n",
       "      <th>2</th>\n",
       "      <td>spatial_dim</td>\n",
       "      <td>character</td>\n",
       "    </tr>\n",
       "    <tr>\n",
       "      <th>3</th>\n",
       "      <td>parent_location</td>\n",
       "      <td>text</td>\n",
       "    </tr>\n",
       "    <tr>\n",
       "      <th>4</th>\n",
       "      <td>time_dim</td>\n",
       "      <td>integer</td>\n",
       "    </tr>\n",
       "    <tr>\n",
       "      <th>5</th>\n",
       "      <td>dim1</td>\n",
       "      <td>text</td>\n",
       "    </tr>\n",
       "    <tr>\n",
       "      <th>6</th>\n",
       "      <td>numeric_value</td>\n",
       "      <td>numeric</td>\n",
       "    </tr>\n",
       "    <tr>\n",
       "      <th>7</th>\n",
       "      <td>low</td>\n",
       "      <td>numeric</td>\n",
       "    </tr>\n",
       "    <tr>\n",
       "      <th>8</th>\n",
       "      <td>high</td>\n",
       "      <td>numeric</td>\n",
       "    </tr>\n",
       "    <tr>\n",
       "      <th>9</th>\n",
       "      <td>value</td>\n",
       "      <td>text</td>\n",
       "    </tr>\n",
       "    <tr>\n",
       "      <th>10</th>\n",
       "      <td>time_dimension_begin</td>\n",
       "      <td>date</td>\n",
       "    </tr>\n",
       "    <tr>\n",
       "      <th>11</th>\n",
       "      <td>time_dimension_end</td>\n",
       "      <td>date</td>\n",
       "    </tr>\n",
       "    <tr>\n",
       "      <th>12</th>\n",
       "      <td>indicator_name</td>\n",
       "      <td>text</td>\n",
       "    </tr>\n",
       "  </tbody>\n",
       "</table>\n",
       "</div>"
      ],
      "text/plain": [
       "             column_name  data_type\n",
       "0         indicator_code       text\n",
       "1       spatial_dim_type       text\n",
       "2            spatial_dim  character\n",
       "3        parent_location       text\n",
       "4               time_dim    integer\n",
       "5                   dim1       text\n",
       "6          numeric_value    numeric\n",
       "7                    low    numeric\n",
       "8                   high    numeric\n",
       "9                  value       text\n",
       "10  time_dimension_begin       date\n",
       "11    time_dimension_end       date\n",
       "12        indicator_name       text"
      ]
     },
     "execution_count": 140,
     "metadata": {},
     "output_type": "execute_result"
    }
   ],
   "source": [
    "pd.read_sql(\"SELECT column_name, data_type FROM information_schema.columns WHERE table_schema='gho' AND table_name='life_expectancy';\", engine)\n"
   ]
  },
  {
   "cell_type": "code",
   "execution_count": 141,
   "id": "5a2f2ffe-4dd8-40cb-8efa-c39a330d55b9",
   "metadata": {
    "scrolled": true
   },
   "outputs": [
    {
     "data": {
      "text/html": [
       "<div>\n",
       "<style scoped>\n",
       "    .dataframe tbody tr th:only-of-type {\n",
       "        vertical-align: middle;\n",
       "    }\n",
       "\n",
       "    .dataframe tbody tr th {\n",
       "        vertical-align: top;\n",
       "    }\n",
       "\n",
       "    .dataframe thead th {\n",
       "        text-align: right;\n",
       "    }\n",
       "</style>\n",
       "<table border=\"1\" class=\"dataframe\">\n",
       "  <thead>\n",
       "    <tr style=\"text-align: right;\">\n",
       "      <th></th>\n",
       "      <th>iso3</th>\n",
       "      <th>time_begin</th>\n",
       "      <th>value</th>\n",
       "    </tr>\n",
       "  </thead>\n",
       "  <tbody>\n",
       "  </tbody>\n",
       "</table>\n",
       "</div>"
      ],
      "text/plain": [
       "Empty DataFrame\n",
       "Columns: [iso3, time_begin, value]\n",
       "Index: []"
      ]
     },
     "execution_count": 141,
     "metadata": {},
     "output_type": "execute_result"
    }
   ],
   "source": [
    "q = \"\"\"\n",
    "SELECT iso3, time_begin, value\n",
    "FROM fact_observation\n",
    "WHERE indicator_code='WHOSIS_000001'\n",
    "ORDER BY time_begin;\n",
    "\"\"\"\n",
    "lifeexp = pd.read_sql(q, engine)\n",
    "lifeexp.head()\n"
   ]
  },
  {
   "cell_type": "markdown",
   "id": "ca3d5bbd-9160-4f54-95b3-58575d87596d",
   "metadata": {},
   "source": [
    "other"
   ]
  },
  {
   "cell_type": "markdown",
   "id": "e02e8c57-3a90-490a-a43a-b3815f53bf36",
   "metadata": {},
   "source": [
    "### Ingest WHO data into postgres (requests + pagination + pandas → Postgres)"
   ]
  },
  {
   "cell_type": "markdown",
   "id": "d96347b5-a6fc-4092-a9dd-d6aeefa53d75",
   "metadata": {},
   "source": [
    "Notes:\n",
    "SQLAlchemy2.0 needs an explicit connection created (or a session or ORM) to execute on\n",
    "\n",
    "SQL always wrapped in text()\n",
    "\n",
    "with ENGINE.begin() so you get a proper transaction and auto-commit\n",
    "\n",
    "Pass parameters as a dict instead of positional %s"
   ]
  },
  {
   "cell_type": "markdown",
   "id": "3a7ae632-ec0d-448b-a544-0dcfb3088f70",
   "metadata": {},
   "source": [
    "Replace every ENGINE.execute(...) with either:\n",
    "\n",
    "with ENGINE.begin() as conn: conn.execute(text(...), params)\n",
    "\n",
    "Or, if you’ll be doing a lot of inserts/updates, create a Session from sqlalchemy.orm and use that."
   ]
  },
  {
   "cell_type": "code",
   "execution_count": 27,
   "id": "643e24f1-bc20-4a71-b314-630fd0495cb7",
   "metadata": {},
   "outputs": [],
   "source": [
    "# Fetching indicator names from API before upserting \n",
    "# Pull the Indicator catalog once, map IndicatorCode → IndicatorName, then use it in the upsert.\n",
    "\n",
    "import requests\n",
    "import pandas as pd\n",
    "from sqlalchemy import text\n",
    "\n",
    "BASE = \"https://ghoapi.azureedge.net/api\"\n",
    "\n",
    "def odata_pages(url: str):\n",
    "    while url:\n",
    "        r = requests.get(url, timeout=60)\n",
    "        r.raise_for_status()\n",
    "        data = r.json()\n",
    "        yield data.get(\"value\", [])\n",
    "        url = data.get(\"@odata.nextLink\")\n",
    "\n",
    "def build_indicator_name_map() -> dict[str, str]:\n",
    "    url = f\"{BASE}/Indicator?$select=IndicatorCode,IndicatorName\"\n",
    "    names = {}\n",
    "    for page in odata_pages(url):\n",
    "        for row in page:\n",
    "            code = row.get(\"IndicatorCode\")\n",
    "            name = row.get(\"IndicatorName\")\n",
    "            if code and name:\n",
    "                names[code] = name\n",
    "    return names\n",
    "\n",
    "INDICATOR_NAMES = build_indicator_name_map()   # call once at start\n",
    "\n",
    "def upsert_dim_indicator(ind_code: str, topic: str | None = None, unit: str | None = None):\n",
    "    name = INDICATOR_NAMES.get(ind_code, ind_code)  # fall back to code if unknown\n",
    "    sql = text(\"\"\"\n",
    "        INSERT INTO dim_indicator (indicator_code, indicator_name, topic, unit)\n",
    "        VALUES (:code, :name, :topic, :unit)\n",
    "        ON CONFLICT (indicator_code) DO UPDATE\n",
    "        SET indicator_name = EXCLUDED.indicator_name,\n",
    "            topic          = COALESCE(EXCLUDED.topic, dim_indicator.topic),\n",
    "            unit           = COALESCE(EXCLUDED.unit,  dim_indicator.unit)\n",
    "    \"\"\")\n",
    "    with ENGINE.begin() as conn:\n",
    "        conn.execute(sql, {\"code\": ind_code, \"name\": name, \"topic\": topic, \"unit\": unit})\n"
   ]
  },
  {
   "cell_type": "code",
   "execution_count": null,
   "id": "6b102eb0-20db-4e8b-aa4c-9740250035f7",
   "metadata": {},
   "outputs": [],
   "source": []
  },
  {
   "cell_type": "markdown",
   "id": "1d30f41e-58f2-462e-a0ca-ed3072747ec3",
   "metadata": {},
   "source": [
    "### COVID weekly loader"
   ]
  },
  {
   "cell_type": "code",
   "execution_count": null,
   "id": "c3cd0d0f-a347-412e-abf4-83f263465823",
   "metadata": {},
   "outputs": [],
   "source": [
    "from sqlalchemy import text\n",
    "\n",
    "with ENGINE.begin() as conn:\n",
    "    conn.execute(text(\"\"\"\n",
    "        INSERT INTO dim_location (iso3, country, who_region)\n",
    "        VALUES (:iso3, :country, :who_region)\n",
    "        ON CONFLICT (iso3) DO NOTHING\n",
    "    \"\"\"), [{\"iso3\":\"GBR\",\"country\":\"United Kingdom\",\"who_region\":\"EURO\"}])\n"
   ]
  },
  {
   "cell_type": "code",
   "execution_count": null,
   "id": "4a9742f8-0c58-41ce-9458-47575c9e7cfb",
   "metadata": {},
   "outputs": [],
   "source": []
  },
  {
   "cell_type": "code",
   "execution_count": null,
   "id": "98ca77c2-98ab-4753-a56d-cd4f261c6d66",
   "metadata": {},
   "outputs": [],
   "source": []
  }
 ],
 "metadata": {
  "kernelspec": {
   "display_name": "Python (epi-core)",
   "language": "python",
   "name": "epi-core"
  },
  "language_info": {
   "codemirror_mode": {
    "name": "ipython",
    "version": 3
   },
   "file_extension": ".py",
   "mimetype": "text/x-python",
   "name": "python",
   "nbconvert_exporter": "python",
   "pygments_lexer": "ipython3",
   "version": "3.11.13"
  }
 },
 "nbformat": 4,
 "nbformat_minor": 5
}
